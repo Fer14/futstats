{
 "cells": [
  {
   "cell_type": "code",
   "execution_count": 20,
   "metadata": {},
   "outputs": [],
   "source": [
    "import glob\n",
    "import os"
   ]
  },
  {
   "cell_type": "code",
   "execution_count": 38,
   "metadata": {},
   "outputs": [],
   "source": [
    "DATA_LOCATION = \"/home/fer/Escritorio/futstatistics/datasets/field/keypoints3_2/yolo\""
   ]
  },
  {
   "cell_type": "code",
   "execution_count": 44,
   "metadata": {},
   "outputs": [],
   "source": [
    "images = []\n",
    "labels = []\n",
    "\n",
    "\n",
    "for part in ['train', 'valid', 'test']:\n",
    "    images += glob.glob(DATA_LOCATION + '/' + part + '/images/*.jpg')\n",
    "    labels += glob.glob(DATA_LOCATION + '/' + part + '/labels/*.txt')\n",
    "\n",
    "images = sorted(images)\n",
    "labels = sorted(labels)"
   ]
  },
  {
   "cell_type": "code",
   "execution_count": 40,
   "metadata": {},
   "outputs": [
    {
     "name": "stdout",
     "output_type": "stream",
     "text": [
      "Both lists contain the same filenames (ignoring extensions).\n"
     ]
    }
   ],
   "source": [
    "# Function to extract filenames without extensions\n",
    "def extract_filename_without_extension(file_list):\n",
    "    return [os.path.splitext(os.path.basename(file))[0] for file in file_list]\n",
    "\n",
    "# Extract filenames without extensions from both lists\n",
    "filenames_list1 = set(extract_filename_without_extension(images))\n",
    "filenames_list2 = set(extract_filename_without_extension(labels))\n",
    "\n",
    "# Check if the sets of filenames are the same\n",
    "if filenames_list1 == filenames_list2:\n",
    "    print(\"Both lists contain the same filenames (ignoring extensions).\")\n",
    "else:\n",
    "    print(\"The lists do not contain the same filenames.\")"
   ]
  },
  {
   "cell_type": "code",
   "execution_count": 14,
   "metadata": {},
   "outputs": [],
   "source": [
    "assert len(images) == len(labels)"
   ]
  },
  {
   "cell_type": "code",
   "execution_count": 45,
   "metadata": {},
   "outputs": [],
   "source": [
    "from sklearn.model_selection import train_test_split\n",
    "X = images\n",
    "y = labels\n",
    "\n",
    "# split into train test sets\n",
    "X_train, X_test, y_train, y_test = train_test_split(images, labels, test_size=0.20, random_state=14)\n"
   ]
  },
  {
   "cell_type": "code",
   "execution_count": 25,
   "metadata": {},
   "outputs": [
    {
     "name": "stdout",
     "output_type": "stream",
     "text": [
      "695\n",
      "174\n"
     ]
    }
   ],
   "source": [
    "print(len(X_train))\n",
    "print(len(X_test))"
   ]
  },
  {
   "cell_type": "code",
   "execution_count": 18,
   "metadata": {},
   "outputs": [],
   "source": [
    "DATA_SPLIT_LOCATION = \"/home/fer/Escritorio/futstatistics/datasets/field/keypoints3_2/yolo/splits\""
   ]
  },
  {
   "cell_type": "code",
   "execution_count": 47,
   "metadata": {},
   "outputs": [],
   "source": [
    "os.makedirs(DATA_SPLIT_LOCATION + \"/train/images\")\n",
    "os.makedirs(DATA_SPLIT_LOCATION + \"/train/labels\")\n",
    "\n",
    "os.makedirs(DATA_SPLIT_LOCATION + \"/test/images\")\n",
    "os.makedirs(DATA_SPLIT_LOCATION + \"/test/labels\")"
   ]
  },
  {
   "cell_type": "code",
   "execution_count": 48,
   "metadata": {},
   "outputs": [],
   "source": [
    "# copy all X train files\n",
    "import shutil\n",
    "\n",
    "for file in X_train:\n",
    "    shutil.copyfile(file, DATA_SPLIT_LOCATION + \"/train/images/\" + os.path.basename(file))\n",
    "\n",
    "for file in y_train:\n",
    "    shutil.copyfile(file, DATA_SPLIT_LOCATION + \"/train/labels/\" + os.path.basename(file))\n",
    "\n",
    "for file in X_test:\n",
    "    shutil.copyfile(file, DATA_SPLIT_LOCATION + \"/test/images/\" + os.path.basename(file))\n",
    "\n",
    "for file in y_test:\n",
    "    shutil.copyfile(file, DATA_SPLIT_LOCATION + \"/test/labels/\" + os.path.basename(file))\n",
    "\n"
   ]
  },
  {
   "cell_type": "code",
   "execution_count": 49,
   "metadata": {},
   "outputs": [
    {
     "name": "stdout",
     "output_type": "stream",
     "text": [
      "Both lists contain the same filenames (ignoring extensions).\n"
     ]
    }
   ],
   "source": [
    "def extract_filename_without_extension(file_list):\n",
    "    return [os.path.splitext(os.path.basename(file))[0] for file in file_list]\n",
    "\n",
    "# Extract filenames without extensions from both lists\n",
    "filenames_list1 = set(extract_filename_without_extension(X_train))\n",
    "filenames_list2 = set(extract_filename_without_extension(y_train))\n",
    "\n",
    "# Check if the sets of filenames are the same\n",
    "if filenames_list1 == filenames_list2:\n",
    "    print(\"Both lists contain the same filenames (ignoring extensions).\")\n",
    "else:\n",
    "    print(\"The lists do not contain the same filenames.\")"
   ]
  },
  {
   "cell_type": "code",
   "execution_count": null,
   "metadata": {},
   "outputs": [],
   "source": []
  }
 ],
 "metadata": {
  "kernelspec": {
   "display_name": "futstats",
   "language": "python",
   "name": "python3"
  },
  "language_info": {
   "codemirror_mode": {
    "name": "ipython",
    "version": 3
   },
   "file_extension": ".py",
   "mimetype": "text/x-python",
   "name": "python",
   "nbconvert_exporter": "python",
   "pygments_lexer": "ipython3",
   "version": "3.10.12"
  }
 },
 "nbformat": 4,
 "nbformat_minor": 2
}

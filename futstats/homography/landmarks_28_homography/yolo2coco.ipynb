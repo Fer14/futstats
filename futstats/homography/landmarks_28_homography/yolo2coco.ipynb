{
 "cells": [
  {
   "cell_type": "code",
   "execution_count": 2,
   "metadata": {},
   "outputs": [],
   "source": [
    "import json\n",
    "import os\n",
    "import cv2\n"
   ]
  },
  {
   "cell_type": "code",
   "execution_count": 11,
   "metadata": {},
   "outputs": [],
   "source": [
    "\n",
    "def yolo_to_coco(yolo_annotations_dir, output_coco_file, image_dir):\n",
    "    # Initialize COCO format data\n",
    "    coco_data = {\n",
    "        \"images\": [],\n",
    "        \"annotations\": [],\n",
    "        \"categories\": []\n",
    "    }\n",
    "\n",
    "    category_id = 0\n",
    "    categories = {}\n",
    "    images = []\n",
    "\n",
    "    for root, _, files in os.walk(yolo_annotations_dir):\n",
    "        for file in files:\n",
    "            if file.endswith(\".txt\"):\n",
    "                print(open(os.path.join(root, file)))\n",
    "                with open(os.path.join(root, file), \"r\") as f:\n",
    "                    lines = f.readlines()\n",
    "\n",
    "                image_path = os.path.join(image_dir, os.path.splitext(file)[0] + \".jpg\")\n",
    "                img = cv2.imread(image_path)\n",
    "                height, width, _ = img.shape\n",
    "\n",
    "                print(lines)\n",
    "\n",
    "                for line in lines:\n",
    "                    values = line.strip().split()\n",
    "                    class_id = int(values[0])\n",
    "                    x_center = float(values[1]) * width\n",
    "                    y_center = float(values[2]) * height\n",
    "                    bbox_width = float(values[3]) * width\n",
    "                    bbox_height = float(values[4]) * height\n",
    "\n",
    "                    x_min = max(0, int(x_center - bbox_width / 2))\n",
    "                    y_min = max(0, int(y_center - bbox_height / 2))\n",
    "                    x_max = min(width, int(x_center + bbox_width / 2))\n",
    "                    y_max = min(height, int(y_center + bbox_height / 2))\n",
    "\n",
    "                    annotation = {\n",
    "                        \"id\": len(coco_data[\"annotations\"]) + 1,\n",
    "                        \"image_id\": len(images) + 1,\n",
    "                        \"category_id\": class_id,\n",
    "                        \"bbox\": [x_min, y_min, x_max - x_min, y_max - y_min],\n",
    "                        \"area\": (x_max - x_min) * (y_max - y_min),\n",
    "                        \"iscrowd\": 0,\n",
    "                    }\n",
    "\n",
    "                    coco_data[\"annotations\"].append(annotation)\n",
    "\n",
    "                images.append({\n",
    "                    \"id\": len(images) + 1,\n",
    "                    \"width\": width,\n",
    "                    \"height\": height,\n",
    "                    \"file_name\": image_path\n",
    "                })\n",
    "\n",
    "                if class_id not in categories:\n",
    "                    category_id += 1\n",
    "                    categories[class_id] = category_id\n",
    "                    coco_data[\"categories\"].append({\n",
    "                        \"id\": category_id,\n",
    "                        \"name\": str(class_id),\n",
    "                        \"supercategory\": \"object\"\n",
    "                    })\n",
    "\n",
    "    coco_data[\"images\"] = images\n",
    "\n",
    "    with open(output_coco_file, \"w\") as output_file:\n",
    "        json.dump(coco_data, output_file, indent=4)\n",
    "\n"
   ]
  },
  {
   "cell_type": "code",
   "execution_count": 12,
   "metadata": {},
   "outputs": [
    {
     "name": "stdout",
     "output_type": "stream",
     "text": [
      "<_io.TextIOWrapper name='/home/fer/Escritorio/futstatistics/datasets/dataset6_keypoints2/Soccer_Field_Detection_yolo/test/labels/144_jpg.rf.404ecdbd34e07104b6e17e7b556c71b0.txt' mode='r' encoding='UTF-8'>\n",
      "[]\n"
     ]
    },
    {
     "ename": "UnboundLocalError",
     "evalue": "local variable 'class_id' referenced before assignment",
     "output_type": "error",
     "traceback": [
      "\u001b[0;31m---------------------------------------------------------------------------\u001b[0m",
      "\u001b[0;31mUnboundLocalError\u001b[0m                         Traceback (most recent call last)",
      "\u001b[1;32m/home/fer/Escritorio/futstatistics/futstats/futstats/homography/keypoint_homography/yolo2coco.ipynb Cell 3\u001b[0m line \u001b[0;36m5\n\u001b[1;32m      <a href='vscode-notebook-cell:/home/fer/Escritorio/futstatistics/futstats/futstats/homography/keypoint_homography/yolo2coco.ipynb#W2sZmlsZQ%3D%3D?line=2'>3</a>\u001b[0m output_coco_file \u001b[39m=\u001b[39m \u001b[39m\"\u001b[39m\u001b[39moutput_coco.json\u001b[39m\u001b[39m\"\u001b[39m\n\u001b[1;32m      <a href='vscode-notebook-cell:/home/fer/Escritorio/futstatistics/futstats/futstats/homography/keypoint_homography/yolo2coco.ipynb#W2sZmlsZQ%3D%3D?line=3'>4</a>\u001b[0m image_dir \u001b[39m=\u001b[39m \u001b[39m\"\u001b[39m\u001b[39m/home/fer/Escritorio/futstatistics/datasets/dataset6_keypoints2/Soccer_Field_Detection_yolo/test/images\u001b[39m\u001b[39m\"\u001b[39m\n\u001b[0;32m----> <a href='vscode-notebook-cell:/home/fer/Escritorio/futstatistics/futstats/futstats/homography/keypoint_homography/yolo2coco.ipynb#W2sZmlsZQ%3D%3D?line=4'>5</a>\u001b[0m yolo_to_coco(yolo_annotations_dir, output_coco_file, image_dir)\n",
      "\u001b[1;32m/home/fer/Escritorio/futstatistics/futstats/futstats/homography/keypoint_homography/yolo2coco.ipynb Cell 3\u001b[0m line \u001b[0;36m5\n\u001b[1;32m     <a href='vscode-notebook-cell:/home/fer/Escritorio/futstatistics/futstats/futstats/homography/keypoint_homography/yolo2coco.ipynb#W2sZmlsZQ%3D%3D?line=47'>48</a>\u001b[0m     coco_data[\u001b[39m\"\u001b[39m\u001b[39mannotations\u001b[39m\u001b[39m\"\u001b[39m]\u001b[39m.\u001b[39mappend(annotation)\n\u001b[1;32m     <a href='vscode-notebook-cell:/home/fer/Escritorio/futstatistics/futstats/futstats/homography/keypoint_homography/yolo2coco.ipynb#W2sZmlsZQ%3D%3D?line=49'>50</a>\u001b[0m images\u001b[39m.\u001b[39mappend({\n\u001b[1;32m     <a href='vscode-notebook-cell:/home/fer/Escritorio/futstatistics/futstats/futstats/homography/keypoint_homography/yolo2coco.ipynb#W2sZmlsZQ%3D%3D?line=50'>51</a>\u001b[0m     \u001b[39m\"\u001b[39m\u001b[39mid\u001b[39m\u001b[39m\"\u001b[39m: \u001b[39mlen\u001b[39m(images) \u001b[39m+\u001b[39m \u001b[39m1\u001b[39m,\n\u001b[1;32m     <a href='vscode-notebook-cell:/home/fer/Escritorio/futstatistics/futstats/futstats/homography/keypoint_homography/yolo2coco.ipynb#W2sZmlsZQ%3D%3D?line=51'>52</a>\u001b[0m     \u001b[39m\"\u001b[39m\u001b[39mwidth\u001b[39m\u001b[39m\"\u001b[39m: width,\n\u001b[1;32m     <a href='vscode-notebook-cell:/home/fer/Escritorio/futstatistics/futstats/futstats/homography/keypoint_homography/yolo2coco.ipynb#W2sZmlsZQ%3D%3D?line=52'>53</a>\u001b[0m     \u001b[39m\"\u001b[39m\u001b[39mheight\u001b[39m\u001b[39m\"\u001b[39m: height,\n\u001b[1;32m     <a href='vscode-notebook-cell:/home/fer/Escritorio/futstatistics/futstats/futstats/homography/keypoint_homography/yolo2coco.ipynb#W2sZmlsZQ%3D%3D?line=53'>54</a>\u001b[0m     \u001b[39m\"\u001b[39m\u001b[39mfile_name\u001b[39m\u001b[39m\"\u001b[39m: image_path\n\u001b[1;32m     <a href='vscode-notebook-cell:/home/fer/Escritorio/futstatistics/futstats/futstats/homography/keypoint_homography/yolo2coco.ipynb#W2sZmlsZQ%3D%3D?line=54'>55</a>\u001b[0m })\n\u001b[0;32m---> <a href='vscode-notebook-cell:/home/fer/Escritorio/futstatistics/futstats/futstats/homography/keypoint_homography/yolo2coco.ipynb#W2sZmlsZQ%3D%3D?line=56'>57</a>\u001b[0m \u001b[39mif\u001b[39;00m class_id \u001b[39mnot\u001b[39;00m \u001b[39min\u001b[39;00m categories:\n\u001b[1;32m     <a href='vscode-notebook-cell:/home/fer/Escritorio/futstatistics/futstats/futstats/homography/keypoint_homography/yolo2coco.ipynb#W2sZmlsZQ%3D%3D?line=57'>58</a>\u001b[0m     category_id \u001b[39m+\u001b[39m\u001b[39m=\u001b[39m \u001b[39m1\u001b[39m\n\u001b[1;32m     <a href='vscode-notebook-cell:/home/fer/Escritorio/futstatistics/futstats/futstats/homography/keypoint_homography/yolo2coco.ipynb#W2sZmlsZQ%3D%3D?line=58'>59</a>\u001b[0m     categories[class_id] \u001b[39m=\u001b[39m category_id\n",
      "\u001b[0;31mUnboundLocalError\u001b[0m: local variable 'class_id' referenced before assignment"
     ]
    }
   ],
   "source": [
    "# Example usage:\n",
    "yolo_annotations_dir = \"/home/fer/Escritorio/futstatistics/datasets/dataset6_keypoints2/Soccer_Field_Detection_yolo/test/labels\"\n",
    "output_coco_file = \"output_coco.json\"\n",
    "image_dir = \"/home/fer/Escritorio/futstatistics/datasets/dataset6_keypoints2/Soccer_Field_Detection_yolo/test/images\"\n",
    "yolo_to_coco(yolo_annotations_dir, output_coco_file, image_dir)"
   ]
  },
  {
   "cell_type": "code",
   "execution_count": null,
   "metadata": {},
   "outputs": [],
   "source": []
  }
 ],
 "metadata": {
  "kernelspec": {
   "display_name": "futstats",
   "language": "python",
   "name": "python3"
  },
  "language_info": {
   "codemirror_mode": {
    "name": "ipython",
    "version": 3
   },
   "file_extension": ".py",
   "mimetype": "text/x-python",
   "name": "python",
   "nbconvert_exporter": "python",
   "pygments_lexer": "ipython3",
   "version": "3.10.12"
  }
 },
 "nbformat": 4,
 "nbformat_minor": 2
}
